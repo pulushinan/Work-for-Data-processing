{
 "cells": [
  {
   "cell_type": "code",
   "execution_count": null,
   "metadata": {},
   "outputs": [],
   "source": [
    "\n",
    "'''\n",
    "第二个模块将复筛数据以及模块一输出的合格数据导入，对复筛结果结合初筛结果进行处理，并对其进行汇总，和处理\n",
    "处理包含挑出待用膜号，对剩余合格膜号进行分批、质控挑选，化验表挑选。\n",
    "'''\n"
   ]
  },
  {
   "cell_type": "code",
   "execution_count": 1,
   "metadata": {},
   "outputs": [
    {
     "ename": "NameError",
     "evalue": "name 'col_of_index' is not defined",
     "output_type": "error",
     "traceback": [
      "\u001b[1;31m---------------------------------------------------------------------------\u001b[0m",
      "\u001b[1;31mNameError\u001b[0m                                 Traceback (most recent call last)",
      "\u001b[1;32m<ipython-input-1-f93e9b60ed1b>\u001b[0m in \u001b[0;36m<module>\u001b[1;34m\u001b[0m\n\u001b[0;32m     15\u001b[0m \u001b[1;33m\u001b[0m\u001b[0m\n\u001b[0;32m     16\u001b[0m \u001b[0md\u001b[0m \u001b[1;33m=\u001b[0m \u001b[1;33m[\u001b[0m\u001b[1;33m]\u001b[0m\u001b[1;33m\u001b[0m\u001b[1;33m\u001b[0m\u001b[0m\n\u001b[1;32m---> 17\u001b[1;33m \u001b[1;32mfor\u001b[0m \u001b[0mj\u001b[0m \u001b[1;32min\u001b[0m \u001b[0mcol_of_index\u001b[0m\u001b[1;33m:\u001b[0m\u001b[1;33m\u001b[0m\u001b[1;33m\u001b[0m\u001b[0m\n\u001b[0m\u001b[0;32m     18\u001b[0m     \u001b[0merror\u001b[0m \u001b[1;33m=\u001b[0m \u001b[1;36m0\u001b[0m\u001b[1;33m\u001b[0m\u001b[1;33m\u001b[0m\u001b[0m\n\u001b[0;32m     19\u001b[0m     \u001b[0merror_list\u001b[0m \u001b[1;33m=\u001b[0m \u001b[1;33m[\u001b[0m\u001b[1;33m]\u001b[0m\u001b[1;33m\u001b[0m\u001b[1;33m\u001b[0m\u001b[0m\n",
      "\u001b[1;31mNameError\u001b[0m: name 'col_of_index' is not defined"
     ]
    }
   ],
   "source": [
    "'''\n",
    "与初筛不同的是，复筛的筛选标准放宽，并且有其特殊要求，利用函数数对其特殊要求进行区分\n",
    "'''\n",
    "\n",
    "'''\n",
    "定义一个用来判定是否cur可用的函数\n",
    "'''\n",
    "def error(float):\n",
    "    e = str(float)\n",
    "    e_list = e.split('.')\n",
    "    a = list(map(int,str(e_list[0])))\n",
    "    a.append(int(e_list[1]));\n",
    "    return(a);\n",
    "\n",
    "\n",
    "d = []\n",
    "for j in col_of_index:\n",
    "    error = 0\n",
    "    error_list = []\n",
    "    for i in range(row):\n",
    "        cur = sheet.cell_value(i, j)\n",
    "        if type(cur) == float:\n",
    "            T = float(sheet.cell_value(i, j + 1))\n",
    "            C = float(sheet.cell_value(i, j + 2))\n",
    "            t = float(sheet.cell_value(i, j + 3))\n",
    "            c = float(sheet.cell_value(i, j + 4))\n",
    "            rValue = sheet.cell_value(i, j + 5)\n",
    "            if T <= downT or T >= upT:                               # 筛选T位置偏移\n",
    "                error += 1\n",
    "            if t <= absT:                                             # 筛选T绝对值低\n",
    "                error += 1.1\n",
    "            if c <= absC:                                             # 筛选C绝对值低\n",
    "                error += 11.1\n",
    "            if type(rValue) == float or type(rValue) == int:         # 这里将数据以 [(膜号，[RI值，RI值，RI值，RI值……])] 的格式录入\n",
    "                if index < 0 or d[index][0] != int(cur):             #加入index <0  是为了解决开始录入的问题\n",
    "                    d.append((int(cur), [rValue]))\n",
    "                    index += 1\n",
    "                else:\n",
    "                    d[index][1].append(rValue)"
   ]
  },
  {
   "cell_type": "code",
   "execution_count": 2,
   "metadata": {},
   "outputs": [],
   "source": [
    "import numpy\n",
    "import math"
   ]
  },
  {
   "cell_type": "code",
   "execution_count": 3,
   "metadata": {},
   "outputs": [],
   "source": [
    "def error(float):\n",
    "    e = str(float)\n",
    "    e_list = e.split('.')\n",
    "    a = list(map(int,str(e_list[0])))\n",
    "    a.append(int(e_list[1]));\n",
    "    return(a);"
   ]
  },
  {
   "cell_type": "code",
   "execution_count": 4,
   "metadata": {},
   "outputs": [
    {
     "data": {
      "text/plain": [
       "[1, 3, 2]"
      ]
     },
     "execution_count": 4,
     "metadata": {},
     "output_type": "execute_result"
    }
   ],
   "source": [
    "error(13.2)"
   ]
  },
  {
   "cell_type": "code",
   "execution_count": 5,
   "metadata": {},
   "outputs": [
    {
     "data": {
      "text/plain": [
       "[2, 1]"
      ]
     },
     "execution_count": 5,
     "metadata": {},
     "output_type": "execute_result"
    }
   ],
   "source": [
    "error(2.1)"
   ]
  },
  {
   "cell_type": "code",
   "execution_count": null,
   "metadata": {},
   "outputs": [],
   "source": [
    "\n",
    "import xlrd as rd\n",
    "import xlwt\n",
    "from xlwt import Workbook\n",
    "import numpy as np\n"
   ]
  },
  {
   "cell_type": "code",
   "execution_count": null,
   "metadata": {},
   "outputs": [],
   "source": []
  },
  {
   "cell_type": "code",
   "execution_count": null,
   "metadata": {},
   "outputs": [],
   "source": []
  },
  {
   "cell_type": "code",
   "execution_count": null,
   "metadata": {},
   "outputs": [],
   "source": []
  },
  {
   "cell_type": "code",
   "execution_count": null,
   "metadata": {},
   "outputs": [],
   "source": []
  },
  {
   "cell_type": "code",
   "execution_count": null,
   "metadata": {},
   "outputs": [],
   "source": []
  },
  {
   "cell_type": "code",
   "execution_count": null,
   "metadata": {},
   "outputs": [],
   "source": []
  }
 ],
 "metadata": {
  "kernelspec": {
   "display_name": "Python 3",
   "language": "python",
   "name": "python3"
  },
  "language_info": {
   "codemirror_mode": {
    "name": "ipython",
    "version": 3
   },
   "file_extension": ".py",
   "mimetype": "text/x-python",
   "name": "python",
   "nbconvert_exporter": "python",
   "pygments_lexer": "ipython3",
   "version": "3.7.3"
  }
 },
 "nbformat": 4,
 "nbformat_minor": 2
}
